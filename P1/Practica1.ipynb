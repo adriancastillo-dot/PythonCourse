{
 "cells": [
  {
   "cell_type": "code",
   "execution_count": null,
   "id": "c3585958",
   "metadata": {},
   "outputs": [],
   "source": [
    "Ejercicio 1 (v1.0)"
   ]
  },
  {
   "cell_type": "code",
   "execution_count": 5,
   "id": "23600b16",
   "metadata": {},
   "outputs": [
    {
     "name": "stdout",
     "output_type": "stream",
     "text": [
      "Remplazar: 1\n",
      "Esta es una cadena modificada con la funcion process_text: este es un ejemplo de una cadena en ******\n"
     ]
    }
   ],
   "source": [
    "def process_text(cadena = 'Este es un ejemplo de una cadena en Python'):\n",
    "    # Convertir la cadena a minúsculas y eliminar espacios iniciales y finales\n",
    "    cadena_min = cadena.lower().strip()\n",
    "    # Reemplazar 'python' por '******'\n",
    "    palabras_remplazo = ['python']\n",
    "    palabras = cadena_min.split()\n",
    "    reemplazo = 0\n",
    "    for i in range(len(palabras)):\n",
    "        if palabras[i] in palabras_remplazo:\n",
    "            palabras[i] = '*' * len(palabras[i])\n",
    "            reemplazo += 1\n",
    "    resultado = ' '.join(palabras)\n",
    "\n",
    "    return resultado, reemplazo\n",
    "\n",
    "resultado, reemplazo = process_text()\n",
    "print('Remplazar:', reemplazo)\n",
    "print(\"Esta es una cadena modificada con la funcion process_text:\", resultado)"
   ]
  },
  {
   "cell_type": "code",
   "execution_count": null,
   "id": "f0260324",
   "metadata": {},
   "outputs": [],
   "source": [
    "Ejercicio 1 (v2.0)"
   ]
  },
  {
   "cell_type": "code",
   "execution_count": null,
   "id": "ffba0435",
   "metadata": {},
   "outputs": [
    {
     "name": "stdout",
     "output_type": "stream",
     "text": [
      "La cadena no puede estar vacía. Por favor, inténtalo de nuevo.\n",
      "La cadena no puede estar vacía. Por favor, inténtalo de nuevo.\n",
      "La cadena no puede estar vacía. Por favor, inténtalo de nuevo.\n",
      "La cadena no puede estar vacía. Por favor, inténtalo de nuevo.\n",
      "Reemplazos realizados: 1\n",
      "Esta es una cadena modificada con la funcion process_text: hola *****\n"
     ]
    }
   ],
   "source": [
    "\n",
    "\n",
    "def process_text(cadena, palabras_remplazo):\n",
    "    # Convertir la cadena a minúsculas y eliminar espacios iniciales y finales\n",
    "    cadena_min = cadena.lower().strip()\n",
    "    # Reemplazar 'palabra_mod' por '*'\n",
    "    palabras_remplazo = [p.lower() for p in palabras_remplazo]\n",
    "    palabras = cadena_min.split()\n",
    "    reemplazo = 0\n",
    "    for i in range(len(palabras)):\n",
    "        if palabras[i] in palabras_remplazo:\n",
    "            palabras[i] = '*' * len(palabras[i])\n",
    "            reemplazo += 1\n",
    "    resultado = ' '.join(palabras)\n",
    "\n",
    "    return resultado, reemplazo\n",
    "\n",
    "while True:\n",
    "    cadena_user = input(\"Introduce una palabra a reemplazar: \").strip()\n",
    "    if cadena_user:\n",
    "        break\n",
    "    print(\"La cadena no puede estar vacía. Por favor, inténtalo de nuevo.\")\n",
    "\n",
    "while True:\n",
    "    palabra_mod = input(\"Introduce una palabra que quieras modificar de la cadena anterior: \")\n",
    "    if palabra_mod:\n",
    "        break\n",
    "    print(\"La palabra no puede estar vacía. Por favor, inténtalo de nuevo.\")\n",
    "resultado, reemplazo = process_text(cadena_user, [palabra_mod])\n",
    "\n",
    "print('Cadena original:', cadena_user)\n",
    "print('Reemplazos realizados:', reemplazo)\n",
    "print(\"Esta es una cadena modificada con la funcion process_text:\", resultado)"
   ]
  },
  {
   "cell_type": "code",
   "execution_count": null,
   "id": "cd813e0c",
   "metadata": {},
   "outputs": [],
   "source": []
  },
  {
   "cell_type": "code",
   "execution_count": null,
   "id": "6c9a0fc1",
   "metadata": {},
   "outputs": [
    {
     "name": "stdout",
     "output_type": "stream",
     "text": [
      "Cadena procesada: hola *****\n",
      "Cantidad de palabras reemplazadas: 1\n"
     ]
    }
   ],
   "source": []
  },
  {
   "cell_type": "code",
   "execution_count": null,
   "id": "7f458b98",
   "metadata": {},
   "outputs": [],
   "source": []
  },
  {
   "cell_type": "code",
   "execution_count": null,
   "id": "19c1ca67",
   "metadata": {},
   "outputs": [],
   "source": []
  },
  {
   "cell_type": "code",
   "execution_count": null,
   "id": "12c33b3a",
   "metadata": {},
   "outputs": [],
   "source": []
  }
 ],
 "metadata": {
  "kernelspec": {
   "display_name": "Python 3",
   "language": "python",
   "name": "python3"
  },
  "language_info": {
   "codemirror_mode": {
    "name": "ipython",
    "version": 3
   },
   "file_extension": ".py",
   "mimetype": "text/x-python",
   "name": "python",
   "nbconvert_exporter": "python",
   "pygments_lexer": "ipython3",
   "version": "3.11.9"
  }
 },
 "nbformat": 4,
 "nbformat_minor": 5
}
