{
 "cells": [
  {
   "cell_type": "code",
   "execution_count": null,
   "id": "c3585958",
   "metadata": {},
   "outputs": [
    {
     "name": "stdout",
     "output_type": "stream",
     "text": [
      "HOLA\n",
      "hola\n"
     ]
    },
    {
     "data": {
      "text/plain": [
       "'HOLA'"
      ]
     },
     "execution_count": 10,
     "metadata": {},
     "output_type": "execute_result"
    }
   ],
   "source": [
    "Ejercicio 1"
   ]
  },
  {
   "cell_type": "code",
   "execution_count": null,
   "id": "23600b16",
   "metadata": {},
   "outputs": [],
   "source": [
    "def process_text(cadena = 'Este es un ejemplo de una cadena en Python'):\n",
    "    # Convertir la cadena a minúsculas y eliminar espacios iniciales y finales\n",
    "    cadena_min=cadena.lower().strip()\n",
    "    # Reemplazar 'python' por '******'\n",
    "    pablabras_remplazo=['python']\n",
    "    palabras = cadena_min.split()\n",
    "    reemplazo = 0\n",
    "    for i in range(len(palabras)):\n",
    "        if palabras[i] in pablabras_remplazo:\n",
    "            palabras[i] = '******'\n",
    "    resultado = ' '.join(palabras)\n",
    "    return resultado, \n",
    "\n",
    "process_text()\n",
    "print(\"Esta es una cadena modificada: se han añadido \") "
   ]
  },
  {
   "cell_type": "code",
   "execution_count": 11,
   "id": "6c9a0fc1",
   "metadata": {},
   "outputs": [
    {
     "name": "stdout",
     "output_type": "stream",
     "text": [
      "Cadena procesada: hola *****\n",
      "Cantidad de palabras reemplazadas: 1\n"
     ]
    }
   ],
   "source": [
    "def procesar_cadena(cadena='hola mundo', palabras_reemplazo=None):\n",
    "    if palabras_reemplazo is None:\n",
    "        palabras_reemplazo = ['mundo']\n",
    "    # Convertir a minúsculas y eliminar espacios\n",
    "    cadena_proc = cadena.lower().strip()\n",
    "    palabras = cadena_proc.split()\n",
    "    reemplazadas = 0\n",
    "    for i, palabra in enumerate(palabras):\n",
    "        if palabra in palabras_reemplazo:\n",
    "            palabras[i] = '*' * len(palabra)\n",
    "            reemplazadas += 1\n",
    "    resultado = ' '.join(palabras)\n",
    "    return resultado, reemplazadas\n",
    "\n",
    "# Ejemplo de uso\n",
    "cadena_procesada, cantidad = procesar_cadena()\n",
    "print(\"Cadena procesada:\", cadena_procesada)\n",
    "print(\"Cantidad de palabras reemplazadas:\", cantidad)"
   ]
  },
  {
   "cell_type": "code",
   "execution_count": null,
   "id": "7f458b98",
   "metadata": {},
   "outputs": [],
   "source": []
  },
  {
   "cell_type": "code",
   "execution_count": null,
   "id": "19c1ca67",
   "metadata": {},
   "outputs": [],
   "source": []
  },
  {
   "cell_type": "code",
   "execution_count": null,
   "id": "12c33b3a",
   "metadata": {},
   "outputs": [],
   "source": []
  }
 ],
 "metadata": {
  "kernelspec": {
   "display_name": "Python 3",
   "language": "python",
   "name": "python3"
  },
  "language_info": {
   "codemirror_mode": {
    "name": "ipython",
    "version": 3
   },
   "file_extension": ".py",
   "mimetype": "text/x-python",
   "name": "python",
   "nbconvert_exporter": "python",
   "pygments_lexer": "ipython3",
   "version": "3.11.9"
  }
 },
 "nbformat": 4,
 "nbformat_minor": 5
}
