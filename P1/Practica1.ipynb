{
 "cells": [
  {
   "cell_type": "code",
   "execution_count": null,
   "id": "c3585958",
   "metadata": {},
   "outputs": [],
   "source": [
    "Ejercicio 1 (v1.0)"
   ]
  },
  {
   "cell_type": "code",
   "execution_count": null,
   "id": "23600b16",
   "metadata": {},
   "outputs": [
    {
     "name": "stdout",
     "output_type": "stream",
     "text": [
      "Cadena original: ola adios\n",
      "Reemplazos realizados: 1\n",
      "Esta es una cadena modificada con la funcion process_text: ola *****\n"
     ]
    }
   ],
   "source": [
    "def process_text(cadena, palabras_remplazo):\n",
    "    cadena_min = cadena.lower().strip()                                         # Convertir la cadena a minúsculas y eliminar espacios iniciales y finales\n",
    "    palabras_remplazo = [p.lower() for p in palabras_remplazo]                  # Conviertir todas las palabras de la lista a minúsculas para facilitar comparaciones\n",
    "    palabras = cadena_min.split()                                               # Dividir la cadena en una lista de palabras separadas por espacios\n",
    "    reemplazo = 0\n",
    "    for i in range(len(palabras)):\n",
    "        if palabras[i] in palabras_remplazo:\n",
    "            palabras[i] = '*' * len(palabras[i])\n",
    "            reemplazo += 1\n",
    "    resultado = ' '.join(palabras)\n",
    "\n",
    "    return resultado, reemplazo\n",
    "\n",
    "while True:\n",
    "    cadena_user = input(\"Introduce una cadena de texto: \").strip()\n",
    "    if cadena_user:\n",
    "        break\n",
    "    print(\"La cadena no puede estar vacía. Por favor, inténtalo de nuevo.\")\n",
    "\n",
    "while True:\n",
    "    palabra_mod = input(\"Introduce una palabra que quieras modificar de la cadena anterior: \")\n",
    "    if palabra_mod:\n",
    "        break\n",
    "    print(\"La palabra no puede estar vacía. Por favor, inténtalo de nuevo.\")\n",
    "resultado, reemplazo = process_text(cadena_user, [palabra_mod])\n",
    "\n",
    "print('Cadena original:', cadena_user)\n",
    "print('Reemplazos realizados:', reemplazo)\n",
    "print(\"Esta es una cadena modificada con la funcion process_text:\", resultado)"
   ]
  },
  {
   "cell_type": "code",
   "execution_count": null,
   "id": "f0260324",
   "metadata": {},
   "outputs": [],
   "source": [
    "Ejercicio 2 "
   ]
  },
  {
   "cell_type": "code",
   "execution_count": null,
   "id": "ffba0435",
   "metadata": {},
   "outputs": [
    {
     "name": "stdout",
     "output_type": "stream",
     "text": [
      "El número 26 no es primo.\n",
      "Lista de los primeros 125 números primos: [2, 3, 5, 7, 11, 13, 17, 19, 23, 29, 31, 37, 41, 43, 47, 53, 59, 61, 67, 71, 73, 79, 83, 89, 97, 101, 103, 107, 109, 113, 127, 131, 137, 139, 149, 151, 157, 163, 167, 173, 179, 181, 191, 193, 197, 199, 211, 223, 227, 229, 233, 239, 241, 251, 257, 263, 269, 271, 277, 281, 283, 293, 307, 311, 313, 317, 331, 337, 347, 349, 353, 359, 367, 373, 379, 383, 389, 397, 401, 409, 419, 421, 431, 433, 439, 443, 449, 457, 461, 463, 467, 479, 487, 491, 499, 503, 509, 521, 523, 541, 547, 557, 563, 569, 571, 577, 587, 593, 599, 601, 607, 613, 617, 619, 631, 641, 643, 647, 653, 659, 661, 673, 677, 683, 691]\n",
      "Números palíndromos en la lista de primos: [11, 101, 131, 151, 181, 191, 313, 353, 373, 383]\n",
      "Primos pequeños (<10): [2, 3, 5, 7]\n",
      "Primos medianos (10–99): [11, 13, 17, 19, 23, 29, 31, 37, 41, 43, 47, 53, 59, 61, 67, 71, 73, 79, 83, 89, 97]\n",
      "Primos grandes (≥100): [101, 103, 107, 109, 113, 127, 131, 137, 139, 149, 151, 157, 163, 167, 173, 179, 181, 191, 193, 197, 199, 211, 223, 227, 229, 233, 239, 241, 251, 257, 263, 269, 271, 277, 281, 283, 293, 307, 311, 313, 317, 331, 337, 347, 349, 353, 359, 367, 373, 379, 383, 389, 397, 401, 409, 419, 421, 431, 433, 439, 443, 449, 457, 461, 463, 467, 479, 487, 491, 499, 503, 509, 521, 523, 541, 547, 557, 563, 569, 571, 577, 587, 593, 599, 601, 607, 613, 617, 619, 631, 641, 643, 647, 653, 659, 661, 673, 677, 683, 691]\n"
     ]
    }
   ],
   "source": [
    "def main():\n",
    "    while True:\n",
    "        try:\n",
    "            n = int(input(\"Introduce un número: \"))\n",
    "            break\n",
    "        except ValueError:\n",
    "            print(\"Entrada inválida. Por favor, introduce un número entero.\")\n",
    "\n",
    "    while True:\n",
    "        try:\n",
    "            limit = int(input(\"Introduce el numero de elementos que tendrá la lista de números primos: \"))\n",
    "            break\n",
    "        except ValueError:\n",
    "            print(\"Entrada inválida. Por favor, introduce un número entero.\")\n",
    "\n",
    "    def is_prime(n):\n",
    "        if n <= 1:\n",
    "            return False\n",
    "        for i in range(2, int(n**0.5) + 1):                                         # Recorrer los números desde 2 hasta la raíz cuadrada de n (inclusive) para comprobar si n tiene divisores\n",
    "            if n % i == 0:\n",
    "                return False\n",
    "        return True\n",
    "\n",
    "    def prime_list(limit):\n",
    "        primes = []\n",
    "        num = 2\n",
    "        while len(primes) < limit:\n",
    "            if is_prime(num):                                                       # LLamar a la función is_prime, se activa si retorna True\n",
    "                primes.append(num)\n",
    "            num += 1\n",
    "        return primes\n",
    "\n",
    "    def check_palindrome(primes):\n",
    "        palindromos = [p for p in primes if str(p) == str(p)[::-1] and p >9]                 # Crea una lista con los números primos que son palíndromos, convierte a cadena p y la invierte comparando si p invertida == p and p>9 para evitar primos de 1 dígito\n",
    "        return palindromos\n",
    "\n",
    "    def categorize_primes(primes):\n",
    "        \"\"\"Clasifica en tres listas: <10, 10–99 y ≥100. Devuelve (peq, med, gran).\"\"\"\n",
    "        peq  = [p for p in primes if p < 10]\n",
    "        med  = [p for p in primes if 10 <= p < 100]\n",
    "        gran = [p for p in primes if p >= 100]\n",
    "        return peq, med, gran\n",
    "\n",
    "    prime = is_prime(n)\n",
    "    primes = prime_list(limit)\n",
    "    palindrome = check_palindrome(primes)\n",
    "    prime_peq, prime_med, prime_gran = categorize_primes(primes)\n",
    "\n",
    "    if prime:\n",
    "        print(\"El número\", n, \"es primo.\")\n",
    "    else:\n",
    "        print(\"El número\", n, \"no es primo.\")\n",
    "\n",
    "    print(\"Lista de los primeros\", limit, \"números primos:\", primes)\n",
    "\n",
    "    if palindrome:\n",
    "        print(\"Números palíndromos en la lista de primos:\", palindrome)\n",
    "    else:\n",
    "        print(\"No hay números palíndromos en la lista de primos.\")\n",
    "\n",
    "    if prime_peq:\n",
    "        print(\"Primos pequeños (<10):\", prime_peq)\n",
    "    if prime_med:\n",
    "        print(\"Primos medianos (10–99):\", prime_med)\n",
    "    if prime_gran:\n",
    "        print(\"Primos grandes (≥100):\", prime_gran)\n",
    "\n",
    "if __name__ == \"__main__\":\n",
    "    main()\n"
   ]
  },
  {
   "cell_type": "code",
   "execution_count": null,
   "id": "cd813e0c",
   "metadata": {},
   "outputs": [],
   "source": [
    "Ejercicio 2"
   ]
  },
  {
   "cell_type": "code",
   "execution_count": null,
   "id": "6c9a0fc1",
   "metadata": {},
   "outputs": [
    {
     "name": "stdout",
     "output_type": "stream",
     "text": [
      "El número 5 es primo.\n",
      "Lista de los primeros 10 números primos: [2, 3, 5, 7, 11, 13, 17, 19, 23, 29]\n",
      "Números palíndromos en la lista de primos: [2, 3, 5, 7, 11]\n"
     ]
    }
   ],
   "source": []
  },
  {
   "cell_type": "code",
   "execution_count": null,
   "id": "7f458b98",
   "metadata": {},
   "outputs": [
    {
     "name": "stdout",
     "output_type": "stream",
     "text": [
      "El número 14 no es primo.\n",
      "Lista de los primeros 40 números primos: [2, 3, 5, 7, 11, 13, 17, 19, 23, 29, 31, 37, 41, 43, 47, 53, 59, 61, 67, 71, 73, 79, 83, 89, 97, 101, 103, 107, 109, 113, 127, 131, 137, 139, 149, 151, 157, 163, 167, 173]\n",
      "Números palíndromos en la lista de primos: [2, 3, 5, 7, 11, 101, 131, 151]\n",
      "Primos pequeños (<10): [2, 3, 5, 7]\n",
      "Primos medianos (10–99): [11, 13, 17, 19, 23, 29, 31, 37, 41, 43, 47, 53, 59, 61, 67, 71, 73, 79, 83, 89, 97]\n",
      "Primos grandes (≥100): [101, 103, 107, 109, 113, 127, 131, 137, 139, 149, 151, 157, 163, 167, 173]\n"
     ]
    }
   ],
   "source": [
    "\n"
   ]
  },
  {
   "cell_type": "code",
   "execution_count": null,
   "id": "19c1ca67",
   "metadata": {},
   "outputs": [],
   "source": []
  },
  {
   "cell_type": "code",
   "execution_count": null,
   "id": "12c33b3a",
   "metadata": {},
   "outputs": [],
   "source": []
  }
 ],
 "metadata": {
  "kernelspec": {
   "display_name": ".venv",
   "language": "python",
   "name": "python3"
  },
  "language_info": {
   "codemirror_mode": {
    "name": "ipython",
    "version": 3
   },
   "file_extension": ".py",
   "mimetype": "text/x-python",
   "name": "python",
   "nbconvert_exporter": "python",
   "pygments_lexer": "ipython3",
   "version": "3.11.9"
  }
 },
 "nbformat": 4,
 "nbformat_minor": 5
}
